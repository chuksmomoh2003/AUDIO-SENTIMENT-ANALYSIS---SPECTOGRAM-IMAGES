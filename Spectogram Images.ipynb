{
 "cells": [
  {
   "cell_type": "code",
   "execution_count": 1,
   "id": "5dbc33f6-ab4d-4e27-8d75-14c47b99b057",
   "metadata": {},
   "outputs": [],
   "source": [
    "import os\n",
    "import librosa\n",
    "import librosa.display\n",
    "import matplotlib.pyplot as plt\n",
    "import numpy as np\n",
    "\n",
    "# Paths\n",
    "audio_folder = r\"TRAIN\"\n",
    "output_folder = r\"SPECTROGRAMS\"\n",
    "\n",
    "# Create output folder if it doesn't exist\n",
    "os.makedirs(output_folder, exist_ok=True)\n",
    "\n",
    "# Function to create and save spectrogram\n",
    "def save_spectrogram(audio_path, output_path):\n",
    "    try:\n",
    "        # Load audio file\n",
    "        y, sr = librosa.load(audio_path, sr=None)\n",
    "        \n",
    "        # Generate spectrogram\n",
    "        S = librosa.feature.melspectrogram(y=y, sr=sr, n_mels=128, fmax=8000)\n",
    "        S_dB = librosa.power_to_db(S, ref=np.max)\n",
    "        \n",
    "        # Create the plot\n",
    "        plt.figure(figsize=(10, 4))\n",
    "        librosa.display.specshow(S_dB, sr=sr, x_axis='time', y_axis='mel', fmax=8000, cmap='viridis')\n",
    "        plt.colorbar(format='%+2.0f dB')\n",
    "        plt.title('Mel-frequency spectrogram')\n",
    "        plt.tight_layout()\n",
    "        plt.axis('off')\n",
    "        \n",
    "        # Save the plot\n",
    "        plt.savefig(output_path, bbox_inches='tight', pad_inches=0)\n",
    "        plt.close()\n",
    "    except Exception as e:\n",
    "        print(f\"Error processing {audio_path}: {e}\")\n",
    "\n",
    "# Process each audio file in the folder\n",
    "for file_name in os.listdir(audio_folder):\n",
    "    if file_name.endswith('.wav'):\n",
    "        audio_path = os.path.join(audio_folder, file_name)\n",
    "        output_path = os.path.join(output_folder, os.path.splitext(file_name)[0] + \".png\")\n",
    "        \n",
    "        save_spectrogram(audio_path, output_path)\n",
    "\n",
    "#print(f\"Spectrograms saved in {output_folder}\")\n"
   ]
  },
  {
   "cell_type": "code",
   "execution_count": 6,
   "id": "a1fca249-0a7b-45e2-a0ae-22f24f21f6fb",
   "metadata": {},
   "outputs": [],
   "source": [
    "import pandas as pd\n",
    "\n",
    "# Load the CSV file\n",
    "train_data = pd.read_csv('TRAIN.csv')\n",
    "\n",
    "# Replace .wav with .png in the Filename column\n",
    "train_data['Filename'] = train_data['Filename'].str.replace('.wav', '.png')\n",
    "\n",
    "# Save the updated dataset to a new CSV file\n",
    "train_data.to_csv('TRAIN_UPDATED.csv', index=False)"
   ]
  },
  {
   "cell_type": "markdown",
   "id": "dae96701-226a-4019-93f8-6367110ac2b5",
   "metadata": {},
   "source": [
    "## Update the CSV file so that the Filename column contains the full paths to the image files"
   ]
  },
  {
   "cell_type": "code",
   "execution_count": 7,
   "id": "9ad99b16-980b-4c0b-b644-eebedcf17fd9",
   "metadata": {},
   "outputs": [],
   "source": [
    "\n",
    "# Load the CSV file\n",
    "train_csv_path = 'SPECTROGRAMS/TRAIN_UPDATED.csv'\n",
    "image_folder = 'SPECTROGRAMS/'\n",
    "\n",
    "train_data = pd.read_csv(train_csv_path)\n",
    "\n",
    "# Update the Filename column to contain full paths\n",
    "train_data['Filename'] = train_data['Filename'].apply(lambda x: os.path.join(image_folder, x))\n",
    "\n",
    "# Save the updated CSV\n",
    "train_data.to_csv(train_csv_path, index=False)\n",
    "#print(\"Updated CSV with full paths saved.\")\n"
   ]
  },
  {
   "cell_type": "code",
   "execution_count": null,
   "id": "89e8ba82-26ef-434c-82da-e20d1158dbcc",
   "metadata": {},
   "outputs": [],
   "source": []
  }
 ],
 "metadata": {
  "kernelspec": {
   "display_name": "Python 3 (ipykernel)",
   "language": "python",
   "name": "python3"
  },
  "language_info": {
   "codemirror_mode": {
    "name": "ipython",
    "version": 3
   },
   "file_extension": ".py",
   "mimetype": "text/x-python",
   "name": "python",
   "nbconvert_exporter": "python",
   "pygments_lexer": "ipython3",
   "version": "3.10.14"
  }
 },
 "nbformat": 4,
 "nbformat_minor": 5
}
